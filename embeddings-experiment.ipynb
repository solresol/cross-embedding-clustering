{
 "cells": [
  {
   "cell_type": "code",
   "execution_count": 13,
   "id": "4b73f0d5",
   "metadata": {},
   "outputs": [],
   "source": [
    "import nltk\n",
    "from nltk.corpus import wordnet as wn\n",
    "import random"
   ]
  },
  {
   "cell_type": "code",
   "execution_count": 11,
   "id": "753dda04",
   "metadata": {},
   "outputs": [
    {
     "name": "stdout",
     "output_type": "stream",
     "text": [
      "CPU times: user 2.38 s, sys: 3.94 ms, total: 2.38 s\n",
      "Wall time: 2.38 s\n"
     ]
    }
   ],
   "source": [
    "%%time\n",
    "monosemous_words = {}\n",
    "for word in wn.all_lemma_names():\n",
    "    if len(wn.synsets(word)) == 1:\n",
    "        monosemous_words[word] = wn.synsets(word)[0]"
   ]
  },
  {
   "cell_type": "code",
   "execution_count": 12,
   "id": "2b64f189",
   "metadata": {},
   "outputs": [
    {
     "data": {
      "text/plain": [
       "116738"
      ]
     },
     "execution_count": 12,
     "metadata": {},
     "output_type": "execute_result"
    }
   ],
   "source": [
    "len(monosemous_words)"
   ]
  },
  {
   "cell_type": "code",
   "execution_count": 16,
   "id": "83dd0f54",
   "metadata": {},
   "outputs": [
    {
     "data": {
      "text/plain": [
       "['abkhazia',\n",
       " 'telephone_number',\n",
       " 'loudmouth',\n",
       " 'vitamin_b_complex',\n",
       " 'poriferous']"
      ]
     },
     "execution_count": 16,
     "metadata": {},
     "output_type": "execute_result"
    }
   ],
   "source": [
    "random.sample(list(monosemous_words), k=5)"
   ]
  },
  {
   "cell_type": "code",
   "execution_count": 23,
   "id": "503c96e0",
   "metadata": {},
   "outputs": [
    {
     "data": {
      "text/plain": [
       "'an autonomous province of Georgia on the Black Sea; a strong independence movement has resulted in much instability'"
      ]
     },
     "execution_count": 23,
     "metadata": {},
     "output_type": "execute_result"
    }
   ],
   "source": [
    "monosemous_words['abkhazia'].definition()"
   ]
  },
  {
   "cell_type": "code",
   "execution_count": null,
   "id": "ca5527a9",
   "metadata": {},
   "outputs": [],
   "source": []
  }
 ],
 "metadata": {
  "kernelspec": {
   "display_name": "Python 3 (ipykernel)",
   "language": "python",
   "name": "python3"
  },
  "language_info": {
   "codemirror_mode": {
    "name": "ipython",
    "version": 3
   },
   "file_extension": ".py",
   "mimetype": "text/x-python",
   "name": "python",
   "nbconvert_exporter": "python",
   "pygments_lexer": "ipython3",
   "version": "3.8.5"
  }
 },
 "nbformat": 4,
 "nbformat_minor": 5
}
